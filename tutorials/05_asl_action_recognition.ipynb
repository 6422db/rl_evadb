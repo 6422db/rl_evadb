{
 "cells": [
  {
   "cell_type": "markdown",
   "metadata": {
    "id": "IuvAt1VzxEGX"
   },
   "source": [
    "# ASL Action Recognition"
   ]
  },
  {
   "cell_type": "markdown",
   "metadata": {
    "id": "Wxx8rhqYxEGZ"
   },
   "source": [
    "<table align=\"left\">\n",
    "  <td>\n",
    "    <a target=\"_blank\" href=\"https://colab.research.google.com/github/georgia-tech-db/eva/blob/master/tutorials/03-emotion-analysis.ipynb\"><img src=\"https://www.tensorflow.org/images/colab_logo_32px.png\" /> Run on Google Colab</a>\n",
    "  </td>\n",
    "  <td>\n",
    "    <a target=\"_blank\" href=\"https://github.com/georgia-tech-db/eva/blob/master/tutorials/03-emotion-analysis.ipynb\"><img src=\"https://www.tensorflow.org/images/GitHub-Mark-32px.png\" /> View source on GitHub</a>\n",
    "  </td>\n",
    "  <td>\n",
    "    <a target=\"_blank\" href=\"https://raw.githubusercontent.com/georgia-tech-db/eva/master/tutorials/03-emotion-analysis.ipynb\"><img src=\"https://www.tensorflow.org/images/download_logo_32px.png\" /> Download notebook</a>\n",
    "  </td>\n",
    "</table>"
   ]
  },
  {
   "cell_type": "markdown",
   "metadata": {
    "id": "xbZut_MdxEGa"
   },
   "source": [
    "### Start EVA server\n",
    "We are reusing the start server notebook for launching the EVA server"
   ]
  },
  {
   "cell_type": "code",
   "execution_count": 1,
   "metadata": {
    "colab": {
     "base_uri": "https://localhost:8080/"
    },
    "execution": {
     "iopub.execute_input": "2023-01-26T21:35:31.615295Z",
     "iopub.status.busy": "2023-01-26T21:35:31.614793Z",
     "iopub.status.idle": "2023-01-26T21:35:32.865359Z",
     "shell.execute_reply": "2023-01-26T21:35:32.864080Z"
    },
    "id": "u6pQ1NdcxEGb",
    "outputId": "297b52a8-11fa-461b-c379-fb4c7c15e4fd"
   },
   "outputs": [
    {
     "name": "stdout",
     "output_type": "stream",
     "text": [
      "File ‘00-start-eva-server.ipynb’ already there; not retrieving.\r\n",
      "\r\n"
     ]
    },
    {
     "ename": "AccessDenied",
     "evalue": "(pid=53095, name='eva_server')",
     "output_type": "error",
     "traceback": [
      "\u001b[0;31m---------------------------------------------------------------------------\u001b[0m",
      "\u001b[0;31mPermissionError\u001b[0m                           Traceback (most recent call last)",
      "File \u001b[0;32m~/anaconda3/envs/env_ish_py3.8/lib/python3.8/site-packages/psutil/__init__.py:1180\u001b[0m, in \u001b[0;36mProcess._send_signal\u001b[0;34m(self, sig)\u001b[0m\n\u001b[1;32m   1179\u001b[0m \u001b[38;5;28;01mtry\u001b[39;00m:\n\u001b[0;32m-> 1180\u001b[0m     \u001b[43mos\u001b[49m\u001b[38;5;241;43m.\u001b[39;49m\u001b[43mkill\u001b[49m\u001b[43m(\u001b[49m\u001b[38;5;28;43mself\u001b[39;49m\u001b[38;5;241;43m.\u001b[39;49m\u001b[43mpid\u001b[49m\u001b[43m,\u001b[49m\u001b[43m \u001b[49m\u001b[43msig\u001b[49m\u001b[43m)\u001b[49m\n\u001b[1;32m   1181\u001b[0m \u001b[38;5;28;01mexcept\u001b[39;00m \u001b[38;5;167;01mProcessLookupError\u001b[39;00m:\n",
      "\u001b[0;31mPermissionError\u001b[0m: [Errno 1] Operation not permitted",
      "\nDuring handling of the above exception, another exception occurred:\n",
      "\u001b[0;31mAccessDenied\u001b[0m                              Traceback (most recent call last)",
      "File \u001b[0;32m/tmp/ipykernel_347468/3770134329.py:53\u001b[0m\n\u001b[1;32m     50\u001b[0m     \u001b[38;5;28;01mreturn\u001b[39;00m cursor\n\u001b[1;32m     52\u001b[0m \u001b[38;5;66;03m# Launch server\u001b[39;00m\n\u001b[0;32m---> 53\u001b[0m \u001b[43mlaunch_eva_server\u001b[49m\u001b[43m(\u001b[49m\u001b[43m)\u001b[49m\n",
      "File \u001b[0;32m/tmp/ipykernel_347468/3770134329.py:22\u001b[0m, in \u001b[0;36mlaunch_eva_server\u001b[0;34m()\u001b[0m\n\u001b[1;32m     20\u001b[0m \u001b[38;5;28;01mdef\u001b[39;00m \u001b[38;5;21mlaunch_eva_server\u001b[39m():\n\u001b[1;32m     21\u001b[0m     \u001b[38;5;66;03m# Stop EVA server if it is running\u001b[39;00m\n\u001b[0;32m---> 22\u001b[0m     \u001b[43mstop_eva_server\u001b[49m\u001b[43m(\u001b[49m\u001b[43m)\u001b[49m\n\u001b[1;32m     24\u001b[0m     os\u001b[38;5;241m.\u001b[39menviron[\u001b[38;5;124m'\u001b[39m\u001b[38;5;124mGPU_DEVICES\u001b[39m\u001b[38;5;124m'\u001b[39m] \u001b[38;5;241m=\u001b[39m \u001b[38;5;124m'\u001b[39m\u001b[38;5;124m0\u001b[39m\u001b[38;5;124m'\u001b[39m\n\u001b[1;32m     26\u001b[0m     \u001b[38;5;66;03m# Start EVA server\u001b[39;00m\n",
      "File \u001b[0;32m/tmp/ipykernel_347468/3770134329.py:18\u001b[0m, in \u001b[0;36mstop_eva_server\u001b[0;34m()\u001b[0m\n\u001b[1;32m     16\u001b[0m \u001b[38;5;28;01mfor\u001b[39;00m proc \u001b[38;5;129;01min\u001b[39;00m process_iter():\n\u001b[1;32m     17\u001b[0m     \u001b[38;5;28;01mif\u001b[39;00m proc\u001b[38;5;241m.\u001b[39mname() \u001b[38;5;241m==\u001b[39m \u001b[38;5;124m\"\u001b[39m\u001b[38;5;124meva_server\u001b[39m\u001b[38;5;124m\"\u001b[39m:\n\u001b[0;32m---> 18\u001b[0m         \u001b[43mproc\u001b[49m\u001b[38;5;241;43m.\u001b[39;49m\u001b[43msend_signal\u001b[49m\u001b[43m(\u001b[49m\u001b[43mSIGTERM\u001b[49m\u001b[43m)\u001b[49m\n",
      "File \u001b[0;32m~/anaconda3/envs/env_ish_py3.8/lib/python3.8/site-packages/psutil/__init__.py:278\u001b[0m, in \u001b[0;36m_assert_pid_not_reused.<locals>.wrapper\u001b[0;34m(self, *args, **kwargs)\u001b[0m\n\u001b[1;32m    276\u001b[0m         msg \u001b[38;5;241m=\u001b[39m \u001b[38;5;28;01mNone\u001b[39;00m\n\u001b[1;32m    277\u001b[0m     \u001b[38;5;28;01mraise\u001b[39;00m NoSuchProcess(\u001b[38;5;28mself\u001b[39m\u001b[38;5;241m.\u001b[39mpid, \u001b[38;5;28mself\u001b[39m\u001b[38;5;241m.\u001b[39m_name, msg\u001b[38;5;241m=\u001b[39mmsg)\n\u001b[0;32m--> 278\u001b[0m \u001b[38;5;28;01mreturn\u001b[39;00m \u001b[43mfun\u001b[49m\u001b[43m(\u001b[49m\u001b[38;5;28;43mself\u001b[39;49m\u001b[43m,\u001b[49m\u001b[43m \u001b[49m\u001b[38;5;241;43m*\u001b[39;49m\u001b[43margs\u001b[49m\u001b[43m,\u001b[49m\u001b[43m \u001b[49m\u001b[38;5;241;43m*\u001b[39;49m\u001b[38;5;241;43m*\u001b[39;49m\u001b[43mkwargs\u001b[49m\u001b[43m)\u001b[49m\n",
      "File \u001b[0;32m~/anaconda3/envs/env_ish_py3.8/lib/python3.8/site-packages/psutil/__init__.py:1200\u001b[0m, in \u001b[0;36mProcess.send_signal\u001b[0;34m(self, sig)\u001b[0m\n\u001b[1;32m   1194\u001b[0m \u001b[38;5;250m\u001b[39m\u001b[38;5;124;03m\"\"\"Send a signal *sig* to process pre-emptively checking\u001b[39;00m\n\u001b[1;32m   1195\u001b[0m \u001b[38;5;124;03mwhether PID has been reused (see signal module constants) .\u001b[39;00m\n\u001b[1;32m   1196\u001b[0m \u001b[38;5;124;03mOn Windows only SIGTERM is valid and is treated as an alias\u001b[39;00m\n\u001b[1;32m   1197\u001b[0m \u001b[38;5;124;03mfor kill().\u001b[39;00m\n\u001b[1;32m   1198\u001b[0m \u001b[38;5;124;03m\"\"\"\u001b[39;00m\n\u001b[1;32m   1199\u001b[0m \u001b[38;5;28;01mif\u001b[39;00m POSIX:\n\u001b[0;32m-> 1200\u001b[0m     \u001b[38;5;28;43mself\u001b[39;49m\u001b[38;5;241;43m.\u001b[39;49m\u001b[43m_send_signal\u001b[49m\u001b[43m(\u001b[49m\u001b[43msig\u001b[49m\u001b[43m)\u001b[49m\n\u001b[1;32m   1201\u001b[0m \u001b[38;5;28;01melse\u001b[39;00m:  \u001b[38;5;66;03m# pragma: no cover\u001b[39;00m\n\u001b[1;32m   1202\u001b[0m     \u001b[38;5;28mself\u001b[39m\u001b[38;5;241m.\u001b[39m_proc\u001b[38;5;241m.\u001b[39msend_signal(sig)\n",
      "File \u001b[0;32m~/anaconda3/envs/env_ish_py3.8/lib/python3.8/site-packages/psutil/__init__.py:1190\u001b[0m, in \u001b[0;36mProcess._send_signal\u001b[0;34m(self, sig)\u001b[0m\n\u001b[1;32m   1188\u001b[0m         \u001b[38;5;28;01mraise\u001b[39;00m NoSuchProcess(\u001b[38;5;28mself\u001b[39m\u001b[38;5;241m.\u001b[39mpid, \u001b[38;5;28mself\u001b[39m\u001b[38;5;241m.\u001b[39m_name)\n\u001b[1;32m   1189\u001b[0m \u001b[38;5;28;01mexcept\u001b[39;00m \u001b[38;5;167;01mPermissionError\u001b[39;00m:\n\u001b[0;32m-> 1190\u001b[0m     \u001b[38;5;28;01mraise\u001b[39;00m AccessDenied(\u001b[38;5;28mself\u001b[39m\u001b[38;5;241m.\u001b[39mpid, \u001b[38;5;28mself\u001b[39m\u001b[38;5;241m.\u001b[39m_name)\n",
      "\u001b[0;31mAccessDenied\u001b[0m: (pid=53095, name='eva_server')"
     ]
    },
    {
     "ename": "AccessDenied",
     "evalue": "(pid=53095, name='eva_server')",
     "output_type": "error",
     "traceback": [
      "\u001b[0;31m---------------------------------------------------------------------------\u001b[0m",
      "\u001b[0;31mPermissionError\u001b[0m                           Traceback (most recent call last)",
      "File \u001b[0;32m~/anaconda3/envs/env_ish_py3.8/lib/python3.8/site-packages/psutil/__init__.py:1180\u001b[0m, in \u001b[0;36mProcess._send_signal\u001b[0;34m(self, sig)\u001b[0m\n\u001b[1;32m   1179\u001b[0m \u001b[38;5;28;01mtry\u001b[39;00m:\n\u001b[0;32m-> 1180\u001b[0m     \u001b[43mos\u001b[49m\u001b[38;5;241;43m.\u001b[39;49m\u001b[43mkill\u001b[49m\u001b[43m(\u001b[49m\u001b[38;5;28;43mself\u001b[39;49m\u001b[38;5;241;43m.\u001b[39;49m\u001b[43mpid\u001b[49m\u001b[43m,\u001b[49m\u001b[43m \u001b[49m\u001b[43msig\u001b[49m\u001b[43m)\u001b[49m\n\u001b[1;32m   1181\u001b[0m \u001b[38;5;28;01mexcept\u001b[39;00m \u001b[38;5;167;01mProcessLookupError\u001b[39;00m:\n",
      "\u001b[0;31mPermissionError\u001b[0m: [Errno 1] Operation not permitted",
      "\nDuring handling of the above exception, another exception occurred:\n",
      "\u001b[0;31mAccessDenied\u001b[0m                              Traceback (most recent call last)",
      "Cell \u001b[0;32mIn[1], line 2\u001b[0m\n\u001b[1;32m      1\u001b[0m get_ipython()\u001b[38;5;241m.\u001b[39msystem(\u001b[38;5;124m'\u001b[39m\u001b[38;5;124mwget -nc \u001b[39m\u001b[38;5;124m\"\u001b[39m\u001b[38;5;124mhttps://raw.githubusercontent.com/georgia-tech-db/eva/master/tutorials/00-start-eva-server.ipynb\u001b[39m\u001b[38;5;124m\"\u001b[39m\u001b[38;5;124m'\u001b[39m)\n\u001b[0;32m----> 2\u001b[0m \u001b[43mget_ipython\u001b[49m\u001b[43m(\u001b[49m\u001b[43m)\u001b[49m\u001b[38;5;241;43m.\u001b[39;49m\u001b[43mrun_line_magic\u001b[49m\u001b[43m(\u001b[49m\u001b[38;5;124;43m'\u001b[39;49m\u001b[38;5;124;43mrun\u001b[39;49m\u001b[38;5;124;43m'\u001b[39;49m\u001b[43m,\u001b[49m\u001b[43m \u001b[49m\u001b[38;5;124;43m'\u001b[39;49m\u001b[38;5;124;43m00-start-eva-server.ipynb\u001b[39;49m\u001b[38;5;124;43m'\u001b[39;49m\u001b[43m)\u001b[49m\n\u001b[1;32m      3\u001b[0m cursor \u001b[38;5;241m=\u001b[39m connect_to_server()\n",
      "File \u001b[0;32m~/anaconda3/envs/env_ish_py3.8/lib/python3.8/site-packages/IPython/core/interactiveshell.py:2369\u001b[0m, in \u001b[0;36mInteractiveShell.run_line_magic\u001b[0;34m(self, magic_name, line, _stack_depth)\u001b[0m\n\u001b[1;32m   2367\u001b[0m     kwargs[\u001b[38;5;124m'\u001b[39m\u001b[38;5;124mlocal_ns\u001b[39m\u001b[38;5;124m'\u001b[39m] \u001b[38;5;241m=\u001b[39m \u001b[38;5;28mself\u001b[39m\u001b[38;5;241m.\u001b[39mget_local_scope(stack_depth)\n\u001b[1;32m   2368\u001b[0m \u001b[38;5;28;01mwith\u001b[39;00m \u001b[38;5;28mself\u001b[39m\u001b[38;5;241m.\u001b[39mbuiltin_trap:\n\u001b[0;32m-> 2369\u001b[0m     result \u001b[38;5;241m=\u001b[39m \u001b[43mfn\u001b[49m\u001b[43m(\u001b[49m\u001b[38;5;241;43m*\u001b[39;49m\u001b[43margs\u001b[49m\u001b[43m,\u001b[49m\u001b[43m \u001b[49m\u001b[38;5;241;43m*\u001b[39;49m\u001b[38;5;241;43m*\u001b[39;49m\u001b[43mkwargs\u001b[49m\u001b[43m)\u001b[49m\n\u001b[1;32m   2370\u001b[0m \u001b[38;5;28;01mreturn\u001b[39;00m result\n",
      "File \u001b[0;32m~/anaconda3/envs/env_ish_py3.8/lib/python3.8/site-packages/IPython/core/magics/execution.py:717\u001b[0m, in \u001b[0;36mExecutionMagics.run\u001b[0;34m(self, parameter_s, runner, file_finder)\u001b[0m\n\u001b[1;32m    715\u001b[0m     \u001b[38;5;28;01mwith\u001b[39;00m preserve_keys(\u001b[38;5;28mself\u001b[39m\u001b[38;5;241m.\u001b[39mshell\u001b[38;5;241m.\u001b[39muser_ns, \u001b[38;5;124m'\u001b[39m\u001b[38;5;124m__file__\u001b[39m\u001b[38;5;124m'\u001b[39m):\n\u001b[1;32m    716\u001b[0m         \u001b[38;5;28mself\u001b[39m\u001b[38;5;241m.\u001b[39mshell\u001b[38;5;241m.\u001b[39muser_ns[\u001b[38;5;124m'\u001b[39m\u001b[38;5;124m__file__\u001b[39m\u001b[38;5;124m'\u001b[39m] \u001b[38;5;241m=\u001b[39m filename\n\u001b[0;32m--> 717\u001b[0m         \u001b[38;5;28;43mself\u001b[39;49m\u001b[38;5;241;43m.\u001b[39;49m\u001b[43mshell\u001b[49m\u001b[38;5;241;43m.\u001b[39;49m\u001b[43msafe_execfile_ipy\u001b[49m\u001b[43m(\u001b[49m\u001b[43mfilename\u001b[49m\u001b[43m,\u001b[49m\u001b[43m \u001b[49m\u001b[43mraise_exceptions\u001b[49m\u001b[38;5;241;43m=\u001b[39;49m\u001b[38;5;28;43;01mTrue\u001b[39;49;00m\u001b[43m)\u001b[49m\n\u001b[1;32m    718\u001b[0m     \u001b[38;5;28;01mreturn\u001b[39;00m\n\u001b[1;32m    720\u001b[0m \u001b[38;5;66;03m# Control the response to exit() calls made by the script being run\u001b[39;00m\n",
      "File \u001b[0;32m~/anaconda3/envs/env_ish_py3.8/lib/python3.8/site-packages/IPython/core/interactiveshell.py:2875\u001b[0m, in \u001b[0;36mInteractiveShell.safe_execfile_ipy\u001b[0;34m(self, fname, shell_futures, raise_exceptions)\u001b[0m\n\u001b[1;32m   2873\u001b[0m result \u001b[38;5;241m=\u001b[39m \u001b[38;5;28mself\u001b[39m\u001b[38;5;241m.\u001b[39mrun_cell(cell, silent\u001b[38;5;241m=\u001b[39m\u001b[38;5;28;01mTrue\u001b[39;00m, shell_futures\u001b[38;5;241m=\u001b[39mshell_futures)\n\u001b[1;32m   2874\u001b[0m \u001b[38;5;28;01mif\u001b[39;00m raise_exceptions:\n\u001b[0;32m-> 2875\u001b[0m     \u001b[43mresult\u001b[49m\u001b[38;5;241;43m.\u001b[39;49m\u001b[43mraise_error\u001b[49m\u001b[43m(\u001b[49m\u001b[43m)\u001b[49m\n\u001b[1;32m   2876\u001b[0m \u001b[38;5;28;01melif\u001b[39;00m \u001b[38;5;129;01mnot\u001b[39;00m result\u001b[38;5;241m.\u001b[39msuccess:\n\u001b[1;32m   2877\u001b[0m     \u001b[38;5;28;01mbreak\u001b[39;00m\n",
      "File \u001b[0;32m~/anaconda3/envs/env_ish_py3.8/lib/python3.8/site-packages/IPython/core/interactiveshell.py:266\u001b[0m, in \u001b[0;36mExecutionResult.raise_error\u001b[0;34m(self)\u001b[0m\n\u001b[1;32m    264\u001b[0m     \u001b[38;5;28;01mraise\u001b[39;00m \u001b[38;5;28mself\u001b[39m\u001b[38;5;241m.\u001b[39merror_before_exec\n\u001b[1;32m    265\u001b[0m \u001b[38;5;28;01mif\u001b[39;00m \u001b[38;5;28mself\u001b[39m\u001b[38;5;241m.\u001b[39merror_in_exec \u001b[38;5;129;01mis\u001b[39;00m \u001b[38;5;129;01mnot\u001b[39;00m \u001b[38;5;28;01mNone\u001b[39;00m:\n\u001b[0;32m--> 266\u001b[0m     \u001b[38;5;28;01mraise\u001b[39;00m \u001b[38;5;28mself\u001b[39m\u001b[38;5;241m.\u001b[39merror_in_exec\n",
      "    \u001b[0;31m[... skipping hidden 1 frame]\u001b[0m\n",
      "File \u001b[0;32m/tmp/ipykernel_347468/3770134329.py:53\u001b[0m\n\u001b[1;32m     50\u001b[0m     \u001b[38;5;28;01mreturn\u001b[39;00m cursor\n\u001b[1;32m     52\u001b[0m \u001b[38;5;66;03m# Launch server\u001b[39;00m\n\u001b[0;32m---> 53\u001b[0m \u001b[43mlaunch_eva_server\u001b[49m\u001b[43m(\u001b[49m\u001b[43m)\u001b[49m\n",
      "File \u001b[0;32m/tmp/ipykernel_347468/3770134329.py:22\u001b[0m, in \u001b[0;36mlaunch_eva_server\u001b[0;34m()\u001b[0m\n\u001b[1;32m     20\u001b[0m \u001b[38;5;28;01mdef\u001b[39;00m \u001b[38;5;21mlaunch_eva_server\u001b[39m():\n\u001b[1;32m     21\u001b[0m     \u001b[38;5;66;03m# Stop EVA server if it is running\u001b[39;00m\n\u001b[0;32m---> 22\u001b[0m     \u001b[43mstop_eva_server\u001b[49m\u001b[43m(\u001b[49m\u001b[43m)\u001b[49m\n\u001b[1;32m     24\u001b[0m     os\u001b[38;5;241m.\u001b[39menviron[\u001b[38;5;124m'\u001b[39m\u001b[38;5;124mGPU_DEVICES\u001b[39m\u001b[38;5;124m'\u001b[39m] \u001b[38;5;241m=\u001b[39m \u001b[38;5;124m'\u001b[39m\u001b[38;5;124m0\u001b[39m\u001b[38;5;124m'\u001b[39m\n\u001b[1;32m     26\u001b[0m     \u001b[38;5;66;03m# Start EVA server\u001b[39;00m\n",
      "File \u001b[0;32m/tmp/ipykernel_347468/3770134329.py:18\u001b[0m, in \u001b[0;36mstop_eva_server\u001b[0;34m()\u001b[0m\n\u001b[1;32m     16\u001b[0m \u001b[38;5;28;01mfor\u001b[39;00m proc \u001b[38;5;129;01min\u001b[39;00m process_iter():\n\u001b[1;32m     17\u001b[0m     \u001b[38;5;28;01mif\u001b[39;00m proc\u001b[38;5;241m.\u001b[39mname() \u001b[38;5;241m==\u001b[39m \u001b[38;5;124m\"\u001b[39m\u001b[38;5;124meva_server\u001b[39m\u001b[38;5;124m\"\u001b[39m:\n\u001b[0;32m---> 18\u001b[0m         \u001b[43mproc\u001b[49m\u001b[38;5;241;43m.\u001b[39;49m\u001b[43msend_signal\u001b[49m\u001b[43m(\u001b[49m\u001b[43mSIGTERM\u001b[49m\u001b[43m)\u001b[49m\n",
      "File \u001b[0;32m~/anaconda3/envs/env_ish_py3.8/lib/python3.8/site-packages/psutil/__init__.py:278\u001b[0m, in \u001b[0;36m_assert_pid_not_reused.<locals>.wrapper\u001b[0;34m(self, *args, **kwargs)\u001b[0m\n\u001b[1;32m    276\u001b[0m         msg \u001b[38;5;241m=\u001b[39m \u001b[38;5;28;01mNone\u001b[39;00m\n\u001b[1;32m    277\u001b[0m     \u001b[38;5;28;01mraise\u001b[39;00m NoSuchProcess(\u001b[38;5;28mself\u001b[39m\u001b[38;5;241m.\u001b[39mpid, \u001b[38;5;28mself\u001b[39m\u001b[38;5;241m.\u001b[39m_name, msg\u001b[38;5;241m=\u001b[39mmsg)\n\u001b[0;32m--> 278\u001b[0m \u001b[38;5;28;01mreturn\u001b[39;00m \u001b[43mfun\u001b[49m\u001b[43m(\u001b[49m\u001b[38;5;28;43mself\u001b[39;49m\u001b[43m,\u001b[49m\u001b[43m \u001b[49m\u001b[38;5;241;43m*\u001b[39;49m\u001b[43margs\u001b[49m\u001b[43m,\u001b[49m\u001b[43m \u001b[49m\u001b[38;5;241;43m*\u001b[39;49m\u001b[38;5;241;43m*\u001b[39;49m\u001b[43mkwargs\u001b[49m\u001b[43m)\u001b[49m\n",
      "File \u001b[0;32m~/anaconda3/envs/env_ish_py3.8/lib/python3.8/site-packages/psutil/__init__.py:1200\u001b[0m, in \u001b[0;36mProcess.send_signal\u001b[0;34m(self, sig)\u001b[0m\n\u001b[1;32m   1194\u001b[0m \u001b[38;5;250m\u001b[39m\u001b[38;5;124;03m\"\"\"Send a signal *sig* to process pre-emptively checking\u001b[39;00m\n\u001b[1;32m   1195\u001b[0m \u001b[38;5;124;03mwhether PID has been reused (see signal module constants) .\u001b[39;00m\n\u001b[1;32m   1196\u001b[0m \u001b[38;5;124;03mOn Windows only SIGTERM is valid and is treated as an alias\u001b[39;00m\n\u001b[1;32m   1197\u001b[0m \u001b[38;5;124;03mfor kill().\u001b[39;00m\n\u001b[1;32m   1198\u001b[0m \u001b[38;5;124;03m\"\"\"\u001b[39;00m\n\u001b[1;32m   1199\u001b[0m \u001b[38;5;28;01mif\u001b[39;00m POSIX:\n\u001b[0;32m-> 1200\u001b[0m     \u001b[38;5;28;43mself\u001b[39;49m\u001b[38;5;241;43m.\u001b[39;49m\u001b[43m_send_signal\u001b[49m\u001b[43m(\u001b[49m\u001b[43msig\u001b[49m\u001b[43m)\u001b[49m\n\u001b[1;32m   1201\u001b[0m \u001b[38;5;28;01melse\u001b[39;00m:  \u001b[38;5;66;03m# pragma: no cover\u001b[39;00m\n\u001b[1;32m   1202\u001b[0m     \u001b[38;5;28mself\u001b[39m\u001b[38;5;241m.\u001b[39m_proc\u001b[38;5;241m.\u001b[39msend_signal(sig)\n",
      "File \u001b[0;32m~/anaconda3/envs/env_ish_py3.8/lib/python3.8/site-packages/psutil/__init__.py:1190\u001b[0m, in \u001b[0;36mProcess._send_signal\u001b[0;34m(self, sig)\u001b[0m\n\u001b[1;32m   1188\u001b[0m         \u001b[38;5;28;01mraise\u001b[39;00m NoSuchProcess(\u001b[38;5;28mself\u001b[39m\u001b[38;5;241m.\u001b[39mpid, \u001b[38;5;28mself\u001b[39m\u001b[38;5;241m.\u001b[39m_name)\n\u001b[1;32m   1189\u001b[0m \u001b[38;5;28;01mexcept\u001b[39;00m \u001b[38;5;167;01mPermissionError\u001b[39;00m:\n\u001b[0;32m-> 1190\u001b[0m     \u001b[38;5;28;01mraise\u001b[39;00m AccessDenied(\u001b[38;5;28mself\u001b[39m\u001b[38;5;241m.\u001b[39mpid, \u001b[38;5;28mself\u001b[39m\u001b[38;5;241m.\u001b[39m_name)\n",
      "\u001b[0;31mAccessDenied\u001b[0m: (pid=53095, name='eva_server')"
     ]
    }
   ],
   "source": [
    "!wget -nc \"https://raw.githubusercontent.com/georgia-tech-db/eva/master/tutorials/00-start-eva-server.ipynb\"\n",
    "%run 00-start-eva-server.ipynb\n",
    "cursor = connect_to_server()"
   ]
  },
  {
   "cell_type": "code",
   "execution_count": 36,
   "metadata": {
    "colab": {
     "base_uri": "https://localhost:8080/"
    },
    "execution": {
     "iopub.execute_input": "2023-01-24T06:22:47.342066Z",
     "iopub.status.busy": "2023-01-24T06:22:47.341505Z",
     "iopub.status.idle": "2023-01-24T06:22:49.984310Z",
     "shell.execute_reply": "2023-01-24T06:22:49.982354Z"
    },
    "id": "4Uv15iq9xEGc",
    "outputId": "b8f8b9d7-74b5-45b8-99dd-76ff41b221eb"
   },
   "outputs": [],
   "source": [
    "# An ASL video of the action computer\n",
    "!wget -nc https://gatech.box.com/shared/static/io36vhiznhbls1ogi4jw994phv72e7mt.mp4 -O computer_asl.mp4\n",
    "\n",
    "#ASL UDF\n",
    "!wget -nc https://raw.githubusercontent.com/georgia-tech-db/eva/master/eva/udfs/asl_action_recognition.py -O asl_action_recognition.py \n",
    "\n",
    "#Pickle file containing the mapping of the ASL action to index\n",
    "!wget -nc https://raw.githubusercontent.com/georgia-tech-db/eva/master/eva/udfs/asl_20_actions_map.pkl -O asl_20_actions_map.pkl"
   ]
  },
  {
   "cell_type": "markdown",
   "metadata": {
    "id": "A1WoJE1txEGc"
   },
   "source": [
    "### Adding the video file to EVADB for analysis"
   ]
  },
  {
   "cell_type": "code",
   "execution_count": 37,
   "metadata": {
    "colab": {
     "base_uri": "https://localhost:8080/"
    },
    "execution": {
     "iopub.execute_input": "2023-01-24T06:22:49.991261Z",
     "iopub.status.busy": "2023-01-24T06:22:49.990657Z",
     "iopub.status.idle": "2023-01-24T06:22:50.137757Z",
     "shell.execute_reply": "2023-01-24T06:22:50.136865Z"
    },
    "id": "Tsjzsq2rxEGc",
    "outputId": "2b57d26a-941d-40bc-be15-8e176d262b7b"
   },
   "outputs": [],
   "source": [
    "cursor.execute('DROP TABLE ASL_ACTIONS')\n",
    "response = cursor.fetch_all()\n",
    "print(response)\n",
    "cursor.execute('LOAD VIDEO \"computer_asl.mp4\" INTO ASL_ACTIONS;')\n",
    "response = cursor.fetch_all()\n",
    "print(response)"
   ]
  },
  {
   "cell_type": "markdown",
   "metadata": {
    "id": "cSfhzPDCxEGd"
   },
   "source": [
    "### Visualize the video"
   ]
  },
  {
   "cell_type": "code",
   "execution_count": 39,
   "metadata": {
    "colab": {
     "base_uri": "https://localhost:8080/",
     "height": 471
    },
    "execution": {
     "iopub.execute_input": "2023-01-24T06:22:50.141927Z",
     "iopub.status.busy": "2023-01-24T06:22:50.141673Z",
     "iopub.status.idle": "2023-01-24T06:22:50.175130Z",
     "shell.execute_reply": "2023-01-24T06:22:50.174282Z"
    },
    "id": "9Hq_pphExEGd",
    "outputId": "39a0e949-7ba1-4f86-c5b7-4f8b37fbe7e9"
   },
   "outputs": [],
   "source": [
    "from IPython.display import Video\n",
    "Video(\"computer_asl.mp4\", height=450, width=800, embed=True)"
   ]
  },
  {
   "cell_type": "markdown",
   "metadata": {
    "id": "BwA34PX4xEGe"
   },
   "source": [
    "### Create an user-defined function(UDF) for analyzing the frames"
   ]
  },
  {
   "cell_type": "code",
   "execution_count": 44,
   "metadata": {
    "colab": {
     "base_uri": "https://localhost:8080/"
    },
    "execution": {
     "iopub.execute_input": "2023-01-24T06:22:50.193746Z",
     "iopub.status.busy": "2023-01-24T06:22:50.193299Z",
     "iopub.status.idle": "2023-01-24T06:22:50.210207Z",
     "shell.execute_reply": "2023-01-24T06:22:50.209008Z"
    },
    "id": "55nnlBXyxEGe",
    "outputId": "db138217-80d0-4fe9-bd73-6a3c7136bd93"
   },
   "outputs": [],
   "source": [
    "cursor.execute(\"DROP UDF ASLActionRecognition\")\n",
    "response = cursor.fetch_all()\n",
    "print(response)\n",
    "cursor.execute(\"\"\"CREATE UDF IF NOT EXISTS ASLActionRecognition\n",
    "        INPUT  (Frame_Array NDARRAY UINT8(3, 16, 224, 224))\n",
    "        OUTPUT (labels NDARRAY STR(ANYDIM))\n",
    "        TYPE  Classification\n",
    "        IMPL  'asl_action_recognition.py'\n",
    "        \"\"\")\n",
    "response = cursor.fetch_all()\n",
    "print(response)"
   ]
  },
  {
   "cell_type": "markdown",
   "metadata": {
    "id": "Tp1HrjykxEGf"
   },
   "source": [
    "### Run the UDF on the Video to find the ASL action"
   ]
  },
  {
   "cell_type": "code",
   "execution_count": 45,
   "metadata": {
    "colab": {
     "base_uri": "https://localhost:8080/"
    },
    "execution": {
     "iopub.execute_input": "2023-01-24T06:22:50.214772Z",
     "iopub.status.busy": "2023-01-24T06:22:50.214269Z",
     "iopub.status.idle": "2023-01-24T06:22:50.248373Z",
     "shell.execute_reply": "2023-01-24T06:22:50.247389Z"
    },
    "id": "CCAz73LExEGf",
    "outputId": "dd7c4643-c7cf-45ea-e4f4-8ef419ecf5bf"
   },
   "outputs": [],
   "source": [
    "cursor.execute(\"\"\"SELECT FIRST(id), ASLActionRecognition(SEGMENT(data)) \n",
    "                  FROM ASL_ACTIONS \n",
    "                  SAMPLE 5\n",
    "                  GROUP BY '16f';\"\"\")\n",
    "response = cursor.fetch_all()\n",
    "print(response)"
   ]
  },
  {
   "cell_type": "code",
   "execution_count": 46,
   "metadata": {
    "execution": {
     "iopub.execute_input": "2023-01-24T06:22:50.252253Z",
     "iopub.status.busy": "2023-01-24T06:22:50.251875Z",
     "iopub.status.idle": "2023-01-24T06:22:50.719582Z",
     "shell.execute_reply": "2023-01-24T06:22:50.718710Z"
    },
    "id": "8hT1LiYrxEGf"
   },
   "outputs": [],
   "source": [
    "import cv2\n",
    "from pprint import pprint\n",
    "from matplotlib import pyplot as plt\n",
    "\n",
    "def annotate_video(detections, input_video_path, output_video_path):\n",
    "    color1=(207, 248, 64)\n",
    "    color2=(255, 49, 49)\n",
    "    thickness=4\n",
    "\n",
    "    vcap = cv2.VideoCapture(input_video_path)\n",
    "    width = int(vcap.get(3))\n",
    "    height = int(vcap.get(4))\n",
    "    fps = vcap.get(5)\n",
    "    fourcc = cv2.VideoWriter_fourcc('m', 'p', '4', 'v') #codec\n",
    "    video=cv2.VideoWriter(output_video_path, fourcc, fps, (width,height))\n",
    "\n",
    "    frame_id = 0\n",
    "    label = detections['aslactionrecognition.labels'][0]\n",
    "    # Capture frame-by-frame\n",
    "    # ret = 1 if the video is captured; frame is the image\n",
    "    ret, frame = vcap.read() \n",
    "\n",
    "    while ret:\n",
    "        frame = cv2.cvtColor(frame, cv2.COLOR_BGR2RGB)\n",
    "        x1, y1, x2, y2 = 350, 100, 900, 500\n",
    "        # object bbox\n",
    "        frame=cv2.rectangle(frame, (x1, y1), (x2, y2), color1, thickness) \n",
    "        # object label\n",
    "        cv2.putText(frame, label, (x1, y1-10), cv2.FONT_HERSHEY_SIMPLEX, 0.9, color1, thickness)\n",
    "        \n",
    "        # frame label\n",
    "        cv2.putText(frame, 'Frame ID: ' + str(frame_id), (700, 500), cv2.FONT_HERSHEY_SIMPLEX, 1.2, color2, thickness) \n",
    "    \n",
    "        video.write(frame)\n",
    "        # Show every twentieth frame\n",
    "        if frame_id % 20 == 0:\n",
    "            plt.imshow(frame)\n",
    "            plt.show()\n",
    "    \n",
    "        frame_id+=1\n",
    "        ret, frame = vcap.read()\n",
    "\n",
    "    video.release()\n",
    "    vcap.release()"
   ]
  },
  {
   "cell_type": "code",
   "execution_count": 47,
   "metadata": {
    "colab": {
     "base_uri": "https://localhost:8080/",
     "height": 1000
    },
    "execution": {
     "iopub.execute_input": "2023-01-24T06:22:50.722937Z",
     "iopub.status.busy": "2023-01-24T06:22:50.722583Z",
     "iopub.status.idle": "2023-01-24T06:22:50.846562Z",
     "shell.execute_reply": "2023-01-24T06:22:50.845622Z"
    },
    "id": "GrWkND_GxEGg",
    "outputId": "9c9adecf-f241-4e82-c1d5-566207a39d22"
   },
   "outputs": [],
   "source": [
    "input_path = 'computer_asl.mp4'\n",
    "output_path = 'computer_annotated.mp4'\n",
    "\n",
    "dataframe = response.batch.frames\n",
    "annotate_video(dataframe, input_path, output_path)"
   ]
  }
 ],
 "metadata": {
  "colab": {
   "provenance": [],
   "toc_visible": true
  },
  "kernelspec": {
   "display_name": "env_ish_py3.8",
   "language": "python",
   "name": "python3"
  },
  "language_info": {
   "codemirror_mode": {
    "name": "ipython",
    "version": 3
   },
   "file_extension": ".py",
   "mimetype": "text/x-python",
   "name": "python",
   "nbconvert_exporter": "python",
   "pygments_lexer": "ipython3",
   "version": "3.8.15"
  },
  "vscode": {
   "interpreter": {
    "hash": "058c33e6d0ddfc253ac4de5119e6393e70d299a271f4b4f53f3672c2feb1816f"
   }
  }
 },
 "nbformat": 4,
 "nbformat_minor": 0
}
